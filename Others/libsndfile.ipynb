{
 "cells": [
  {
   "cell_type": "code",
   "execution_count": 1,
   "id": "282cf5e6-b540-4f9e-9eed-7ff1196b0e2f",
   "metadata": {
    "tags": []
   },
   "outputs": [
    {
     "name": "stdout",
     "output_type": "stream",
     "text": [
      "Reading package lists... Done\n",
      "Building dependency tree... Done\n",
      "Reading state information... Done\n",
      "autoconf is already the newest version (2.71-2).\n",
      "automake is already the newest version (1:1.16.5-1.3).\n",
      "build-essential is already the newest version (12.9ubuntu3).\n",
      "libasound2-dev is already the newest version (1.2.6.1-1ubuntu1).\n",
      "libmp3lame-dev is already the newest version (3.100-3build2).\n",
      "libmpg123-dev is already the newest version (1.29.3-1build1).\n",
      "libogg-dev is already the newest version (1.3.5-0ubuntu3).\n",
      "libopus-dev is already the newest version (1.3.1-0.1build2).\n",
      "libtool is already the newest version (2.4.6-15build2).\n",
      "libvorbis-dev is already the newest version (1.3.7-1build2).\n",
      "pkg-config is already the newest version (0.29.2-1ubuntu3).\n",
      "autogen is already the newest version (1:5.18.16-4).\n",
      "libflac-dev is already the newest version (1.3.3-2ubuntu0.1).\n",
      "The following packages were automatically installed and are no longer required:\n",
      "  fontconfig libaom3 libapparmor1 libass9 libasyncns0 libavc1394-0\n",
      "  libavcodec58 libavformat58 libavutil56 libblas3 libbluray2 libbs2b0 libcaca0\n",
      "  libcairo-gobject2 libcdio-cdda2 libcdio-paranoia2 libcdio19 libchromaprint1\n",
      "  libcodec2-1.0 libdatrie1 libdav1d5 libdc1394-25 libdecor-0-0 libdrm-amdgpu1\n",
      "  libdrm-common libdrm-nouveau2 libdrm-radeon1 libdrm2 libelf1 libflite1\n",
      "  libfribidi0 libgbm1 libgdk-pixbuf-2.0-0 libgdk-pixbuf2.0-common libgl1\n",
      "  libgl1-mesa-dri libglapi-mesa libglvnd0 libglx-mesa0 libglx0 libgme0 libgsm1\n",
      "  libiec61883-0 libjack-jackd2-0 liblapack3 liblilv-0-0 libllvm15 libmysofa1\n",
      "  libnorm1 libnuma1 libopenal-data libopenal1 libopenmpt0 libpango-1.0-0\n",
      "  libpangocairo-1.0-0 libpangoft2-1.0-0 libpgm-5.3-0 libpostproc55\n",
      "  librabbitmq4 libraw1394-11 librsvg2-2 librubberband2 libsamplerate0\n",
      "  libsensors-config libsensors5 libserd-0-0 libshine3 libslang2 libsnappy1v5\n",
      "  libsndio7.0 libsodium23 libsord-0-0 libsoxr0 libspeex1 libsratom-0-0\n",
      "  libsrt1.4-gnutls libssh-gcrypt-4 libswresample3 libswscale5 libthai-data\n",
      "  libthai0 libtheora0 libtwolame0 libudfread0 libusb-1.0-0 libva-drm2\n",
      "  libva-x11-2 libva2 libvdpau1 libvidstab1.1 libvpx7 libwayland-client0\n",
      "  libwayland-cursor0 libwayland-egl1 libwayland-server0 libwebpmux3\n",
      "  libx11-xcb1 libx264-163 libx265-199 libxcb-dri2-0 libxcb-dri3-0 libxcb-glx0\n",
      "  libxcb-present0 libxcb-randr0 libxcb-shape0 libxcb-sync1 libxcb-xfixes0\n",
      "  libxcursor1 libxfixes3 libxinerama1 libxkbcommon0 libxrandr2 libxshmfence1\n",
      "  libxss1 libxv1 libxvidcore4 libxxf86vm1 libzimg2 libzmq5 libzvbi-common\n",
      "  libzvbi0 ocl-icd-libopencl1 xkb-data\n",
      "Use 'sudo apt autoremove' to remove them.\n",
      "0 upgraded, 0 newly installed, 0 to remove and 0 not upgraded.\n"
     ]
    }
   ],
   "source": [
    "!sudo apt install autoconf autogen automake build-essential libasound2-dev \\\n",
    "  libflac-dev libogg-dev libtool libvorbis-dev libopus-dev libmp3lame-dev \\\n",
    "  libmpg123-dev pkg-config"
   ]
  },
  {
   "cell_type": "code",
   "execution_count": 2,
   "id": "b63a99a0-6525-472c-83de-15e5d6a492f6",
   "metadata": {
    "tags": []
   },
   "outputs": [
    {
     "name": "stdout",
     "output_type": "stream",
     "text": [
      "Cloning into 'libsndfile'...\n",
      "remote: Enumerating objects: 19328, done.\u001b[K\n",
      "remote: Counting objects: 100% (1072/1072), done.\u001b[K\n",
      "remote: Compressing objects: 100% (390/390), done.\u001b[K\n",
      "remote: Total 19328 (delta 684), reused 928 (delta 664), pack-reused 18256\u001b[K\n",
      "Receiving objects: 100% (19328/19328), 31.94 MiB | 14.67 MiB/s, done.\n",
      "Resolving deltas: 100% (14275/14275), done.\n",
      "autoreconf: export WARNINGS=\n",
      "autoreconf: error: 'configure.ac' is required\n",
      "/bin/bash: line 1: ./configure: No such file or directory\n",
      "make: *** No targets specified and no makefile found.  Stop.\n",
      "make: *** No rule to make target 'install'.  Stop.\n"
     ]
    }
   ],
   "source": [
    "!cd /tmp && git clone https://github.com/libsndfile/libsndfile.git && cd libsndfile/ && autoreconf -vif && ./configure --enable-werror && make && sudo make install"
   ]
  },
  {
   "cell_type": "code",
   "execution_count": 5,
   "id": "afd27f23-df8b-4cd5-9e08-8650876102a7",
   "metadata": {
    "tags": []
   },
   "outputs": [],
   "source": [
    "!sudo ldconfig"
   ]
  },
  {
   "cell_type": "code",
   "execution_count": null,
   "id": "977d656e-17bb-479e-9241-175b14efc50a",
   "metadata": {},
   "outputs": [],
   "source": []
  }
 ],
 "metadata": {
  "kernelspec": {
   "display_name": "Python 3 (ipykernel)",
   "language": "python",
   "name": "python3"
  },
  "language_info": {
   "codemirror_mode": {
    "name": "ipython",
    "version": 3
   },
   "file_extension": ".py",
   "mimetype": "text/x-python",
   "name": "python",
   "nbconvert_exporter": "python",
   "pygments_lexer": "ipython3",
   "version": "3.10.11"
  }
 },
 "nbformat": 4,
 "nbformat_minor": 5
}
