{
 "cells": [
  {
   "cell_type": "markdown",
   "id": "ff45197e-b10c-401b-88ed-42d875c43801",
   "metadata": {},
   "source": [
    "# QSO generator"
   ]
  },
  {
   "cell_type": "code",
   "execution_count": 1,
   "id": "44aa65b9-dd91-4b32-940b-2006288da16e",
   "metadata": {
    "tags": []
   },
   "outputs": [
    {
     "name": "stdout",
     "output_type": "stream",
     "text": [
      "Collecting gTTS\n",
      "  Downloading gTTS-2.5.3-py3-none-any.whl (29 kB)\n",
      "Requirement already satisfied: requests<3,>=2.27 in /opt/conda/lib/python3.10/site-packages (from gTTS) (2.29.0)\n",
      "Requirement already satisfied: click<8.2,>=7.1 in /opt/conda/lib/python3.10/site-packages (from gTTS) (8.1.3)\n",
      "Requirement already satisfied: charset-normalizer<4,>=2 in /opt/conda/lib/python3.10/site-packages (from requests<3,>=2.27->gTTS) (3.1.0)\n",
      "Requirement already satisfied: idna<4,>=2.5 in /opt/conda/lib/python3.10/site-packages (from requests<3,>=2.27->gTTS) (3.4)\n",
      "Requirement already satisfied: urllib3<1.27,>=1.21.1 in /opt/conda/lib/python3.10/site-packages (from requests<3,>=2.27->gTTS) (1.26.15)\n",
      "Requirement already satisfied: certifi>=2017.4.17 in /opt/conda/lib/python3.10/site-packages (from requests<3,>=2.27->gTTS) (2023.5.7)\n",
      "Installing collected packages: gTTS\n",
      "Successfully installed gTTS-2.5.3\n"
     ]
    }
   ],
   "source": [
    "!pip install gTTS"
   ]
  },
  {
   "cell_type": "markdown",
   "id": "3717c14c-124e-4f2c-bac5-1e9dff70e3c1",
   "metadata": {},
   "source": [
    "### QSO TTS to MP3"
   ]
  },
  {
   "cell_type": "code",
   "execution_count": 2,
   "id": "02f177b7-267c-4e87-bf67-5ba69b3d16ba",
   "metadata": {
    "tags": []
   },
   "outputs": [],
   "source": [
    "# Import the required module for text \n",
    "# to speech conversion\n",
    "from gtts import gTTS\n",
    "  \n",
    "# This module is imported so that we can \n",
    "# play the converted audio\n",
    "import os\n",
    "\n",
    "contestWords = [\"test\", \"contest\"]\n",
    "  \n",
    "# The text that you want to convert to audio\n",
    "mytext = 'CQ test CQ test CQ test'\n",
    "  \n",
    "# Language in which you want to convert\n",
    "language = 'en'\n",
    "  \n",
    "# Passing the text and language to the engine, \n",
    "# here we have marked slow=False. Which tells \n",
    "# the module that the converted audio should \n",
    "# have a high speed\n",
    "myobj = gTTS(text=mytext, lang=language, slow=False)\n",
    "  \n",
    "# Saving the converted audio in a mp3 file named\n",
    "# welcome \n",
    "myobj.save(\"cq-test.mp3\")"
   ]
  }
 ],
 "metadata": {
  "kernelspec": {
   "display_name": "Python 3 (ipykernel)",
   "language": "python",
   "name": "python3"
  },
  "language_info": {
   "codemirror_mode": {
    "name": "ipython",
    "version": 3
   },
   "file_extension": ".py",
   "mimetype": "text/x-python",
   "name": "python",
   "nbconvert_exporter": "python",
   "pygments_lexer": "ipython3",
   "version": "3.10.11"
  }
 },
 "nbformat": 4,
 "nbformat_minor": 5
}
