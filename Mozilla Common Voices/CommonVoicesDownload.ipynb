{
 "cells": [
  {
   "cell_type": "markdown",
   "id": "74fa3d64-d3c2-4c36-b0d0-98909ce418e6",
   "metadata": {
    "tags": []
   },
   "source": [
    "!pip install datasets torch"
   ]
  },
  {
   "cell_type": "code",
   "execution_count": 2,
   "id": "507555a6-5de7-43e5-ba20-12afb3b4681a",
   "metadata": {
    "tags": []
   },
   "outputs": [],
   "source": [
    "from datasets import load_dataset\n",
    "#from torch.utils.data.sampler import BatchSampler, RandomSampler\n",
    "\n",
    "cv_13 = load_dataset(\"mozilla-foundation/common_voice_13_0\", \"it\", split=\"validation\")\n",
    "#batch_sampler = BatchSampler(RandomSampler(cv_13), batch_size=32, drop_last=False)\n",
    "#dataloader = DataLoader(cv_13, batch_sampler=batch_sampler)"
   ]
  },
  {
   "cell_type": "code",
   "execution_count": 3,
   "id": "172ac368-85c5-48da-8d09-8605b3600109",
   "metadata": {
    "tags": []
   },
   "outputs": [
    {
     "data": {
      "application/vnd.jupyter.widget-view+json": {
       "model_id": "5b761d9c84b649e8bdf0719585db332c",
       "version_major": 2,
       "version_minor": 0
      },
      "text/plain": [
       "Saving the dataset (0/2 shards):   0%|          | 0/15086 [00:00<?, ? examples/s]"
      ]
     },
     "metadata": {},
     "output_type": "display_data"
    }
   ],
   "source": [
    "cv_13.save_to_disk(\"mozilla-common-voices\")"
   ]
  },
  {
   "cell_type": "code",
   "execution_count": 5,
   "id": "8a3adb3f-d682-4ed3-85fc-ce187ccc9621",
   "metadata": {
    "tags": []
   },
   "outputs": [
    {
     "data": {
      "text/plain": [
       "{'path': '/home/jovyan/.cache/huggingface/datasets/downloads/extracted/cf092477572937be3dffa6da0cc8bea1412b82f2ba3acb886c92a5e60a9486f9/it_dev_0/common_voice_it_19348529.mp3',\n",
       " 'array': array([0.00000000e+00, 2.61833707e-14, 2.73162433e-14, ...,\n",
       "        1.29988996e-06, 1.64870028e-06, 1.44956300e-06]),\n",
       " 'sampling_rate': 48000}"
      ]
     },
     "execution_count": 5,
     "metadata": {},
     "output_type": "execute_result"
    }
   ],
   "source": [
    "cv_13[0][\"audio\"]"
   ]
  }
 ],
 "metadata": {
  "kernelspec": {
   "display_name": "Python 3 (ipykernel)",
   "language": "python",
   "name": "python3"
  },
  "language_info": {
   "codemirror_mode": {
    "name": "ipython",
    "version": 3
   },
   "file_extension": ".py",
   "mimetype": "text/x-python",
   "name": "python",
   "nbconvert_exporter": "python",
   "pygments_lexer": "ipython3",
   "version": "3.10.11"
  }
 },
 "nbformat": 4,
 "nbformat_minor": 5
}
